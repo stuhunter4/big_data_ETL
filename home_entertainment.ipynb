{
  "nbformat": 4,
  "nbformat_minor": 0,
  "metadata": {
    "colab": {
      "name": "home_entertainment.ipynb",
      "provenance": [],
      "collapsed_sections": []
    },
    "kernelspec": {
      "name": "python3",
      "display_name": "Python 3"
    }
  },
  "cells": [
    {
      "cell_type": "code",
      "metadata": {
        "colab": {
          "base_uri": "https://localhost:8080/"
        },
        "id": "1AwG8R9EUuDF",
        "outputId": "18ecb119-132b-4fe6-92fa-9b053bf5b85a"
      },
      "source": [
        "import os\r\n",
        "# Find the latest version of spark 3.0  from http://www-us.apache.org/dist/spark/ and enter as the spark version\r\n",
        "# For example:\r\n",
        "# spark_version = 'spark-3.1.1'\r\n",
        "spark_version = 'spark-3.1.1'\r\n",
        "os.environ['SPARK_VERSION']=spark_version\r\n",
        "\r\n",
        "# Install Spark and Java\r\n",
        "!apt-get update\r\n",
        "!apt-get install openjdk-11-jdk-headless -qq > /dev/null\r\n",
        "!wget -q http://www-us.apache.org/dist/spark/$SPARK_VERSION/$SPARK_VERSION-bin-hadoop2.7.tgz\r\n",
        "!tar xf $SPARK_VERSION-bin-hadoop2.7.tgz\r\n",
        "!pip install -q findspark\r\n",
        "\r\n",
        "# Set Environment Variables\r\n",
        "import os\r\n",
        "os.environ[\"JAVA_HOME\"] = \"/usr/lib/jvm/java-11-openjdk-amd64\"\r\n",
        "os.environ[\"SPARK_HOME\"] = f\"/content/{spark_version}-bin-hadoop2.7\"\r\n",
        "\r\n",
        "# Start a SparkSession\r\n",
        "import findspark\r\n",
        "findspark.init()"
      ],
      "execution_count": 1,
      "outputs": [
        {
          "output_type": "stream",
          "text": [
            "\r0% [Working]\r            \rGet:1 https://cloud.r-project.org/bin/linux/ubuntu bionic-cran40/ InRelease [3,626 B]\n",
            "\r0% [Connecting to archive.ubuntu.com] [Waiting for headers] [1 InRelease 0 B/3,\r0% [Connecting to archive.ubuntu.com] [Waiting for headers] [Connecting to ppa.\r0% [1 InRelease gpgv 3,626 B] [Connecting to archive.ubuntu.com] [Waiting for h\r                                                                               \rIgn:2 https://developer.download.nvidia.com/compute/cuda/repos/ubuntu1804/x86_64  InRelease\n",
            "\r0% [1 InRelease gpgv 3,626 B] [Connecting to archive.ubuntu.com] [Waiting for h\r                                                                               \rIgn:3 https://developer.download.nvidia.com/compute/machine-learning/repos/ubuntu1804/x86_64  InRelease\n",
            "\r0% [1 InRelease gpgv 3,626 B] [Connecting to archive.ubuntu.com] [Waiting for h\r                                                                               \rGet:4 http://security.ubuntu.com/ubuntu bionic-security InRelease [88.7 kB]\n",
            "\r0% [1 InRelease gpgv 3,626 B] [Connecting to archive.ubuntu.com] [4 InRelease 1\r                                                                               \rGet:5 https://developer.download.nvidia.com/compute/cuda/repos/ubuntu1804/x86_64  Release [697 B]\n",
            "\r0% [1 InRelease gpgv 3,626 B] [Connecting to archive.ubuntu.com (91.189.88.152)\r0% [1 InRelease gpgv 3,626 B] [Connecting to archive.ubuntu.com (91.189.88.152)\r                                                                               \rHit:6 https://developer.download.nvidia.com/compute/machine-learning/repos/ubuntu1804/x86_64  Release\n",
            "Get:7 https://developer.download.nvidia.com/compute/cuda/repos/ubuntu1804/x86_64  Release.gpg [836 B]\n",
            "Get:8 http://ppa.launchpad.net/c2d4u.team/c2d4u4.0+/ubuntu bionic InRelease [15.9 kB]\n",
            "Hit:9 http://archive.ubuntu.com/ubuntu bionic InRelease\n",
            "Get:10 http://archive.ubuntu.com/ubuntu bionic-updates InRelease [88.7 kB]\n",
            "Hit:12 http://ppa.launchpad.net/cran/libgit2/ubuntu bionic InRelease\n",
            "Ign:13 https://developer.download.nvidia.com/compute/cuda/repos/ubuntu1804/x86_64  Packages\n",
            "Get:13 https://developer.download.nvidia.com/compute/cuda/repos/ubuntu1804/x86_64  Packages [602 kB]\n",
            "Hit:14 http://ppa.launchpad.net/deadsnakes/ppa/ubuntu bionic InRelease\n",
            "Get:15 http://archive.ubuntu.com/ubuntu bionic-backports InRelease [74.6 kB]\n",
            "Get:16 http://security.ubuntu.com/ubuntu bionic-security/universe amd64 Packages [1,396 kB]\n",
            "Hit:17 http://ppa.launchpad.net/graphics-drivers/ppa/ubuntu bionic InRelease\n",
            "Get:18 http://security.ubuntu.com/ubuntu bionic-security/main amd64 Packages [1,964 kB]\n",
            "Get:19 http://ppa.launchpad.net/c2d4u.team/c2d4u4.0+/ubuntu bionic/main Sources [1,745 kB]\n",
            "Get:20 http://archive.ubuntu.com/ubuntu bionic-updates/main amd64 Packages [2,394 kB]\n",
            "Get:21 http://ppa.launchpad.net/c2d4u.team/c2d4u4.0+/ubuntu bionic/main amd64 Packages [893 kB]\n",
            "Get:22 http://archive.ubuntu.com/ubuntu bionic-updates/universe amd64 Packages [2,163 kB]\n",
            "Fetched 11.4 MB in 4s (3,198 kB/s)\n",
            "Reading package lists... Done\n"
          ],
          "name": "stdout"
        }
      ]
    },
    {
      "cell_type": "code",
      "metadata": {
        "colab": {
          "base_uri": "https://localhost:8080/"
        },
        "id": "O8c5_OaMVTP5",
        "outputId": "6dba67ab-ddc2-4867-b73c-ed671df68cd1"
      },
      "source": [
        "# For connection to Postgres\r\n",
        "!wget https://jdbc.postgresql.org/download/postgresql-42.2.9.jar"
      ],
      "execution_count": 2,
      "outputs": [
        {
          "output_type": "stream",
          "text": [
            "--2021-03-12 04:34:36--  https://jdbc.postgresql.org/download/postgresql-42.2.9.jar\n",
            "Resolving jdbc.postgresql.org (jdbc.postgresql.org)... 72.32.157.228, 2001:4800:3e1:1::228\n",
            "Connecting to jdbc.postgresql.org (jdbc.postgresql.org)|72.32.157.228|:443... connected.\n",
            "HTTP request sent, awaiting response... 200 OK\n",
            "Length: 914037 (893K) [application/java-archive]\n",
            "Saving to: ‘postgresql-42.2.9.jar’\n",
            "\n",
            "postgresql-42.2.9.j 100%[===================>] 892.61K  4.14MB/s    in 0.2s    \n",
            "\n",
            "2021-03-12 04:34:36 (4.14 MB/s) - ‘postgresql-42.2.9.jar’ saved [914037/914037]\n",
            "\n"
          ],
          "name": "stdout"
        }
      ]
    },
    {
      "cell_type": "code",
      "metadata": {
        "id": "CnQFHZUjzn1o"
      },
      "source": [
        "from pyspark.sql import SparkSession\r\n",
        "spark = SparkSession.builder.appName(\"CloudETL\").config(\"spark.driver.extraClassPath\",\"/content/postgresql-42.2.9.jar\").getOrCreate()"
      ],
      "execution_count": 3,
      "outputs": []
    },
    {
      "cell_type": "code",
      "metadata": {
        "colab": {
          "base_uri": "https://localhost:8080/"
        },
        "id": "P6yVzYEDVTrx",
        "outputId": "d9a408be-2f43-41d8-faab-f1364b221107"
      },
      "source": [
        "# Read in data from S3 Buckets into a DataFrame\r\n",
        "from pyspark import SparkFiles\r\n",
        "url =\"https://s3.amazonaws.com/amazon-reviews-pds/tsv/amazon_reviews_us_Home_Entertainment_v1_00.tsv.gz\"\r\n",
        "spark.sparkContext.addFile(url)\r\n",
        "df = spark.read.option('header', 'true').csv(SparkFiles.get(\"amazon_reviews_us_Home_Entertainment_v1_00.tsv.gz\"), sep=\"\\t\")\r\n",
        "\r\n",
        "# Show DataFrame\r\n",
        "df.show(10)"
      ],
      "execution_count": 4,
      "outputs": [
        {
          "output_type": "stream",
          "text": [
            "+-----------+-----------+--------------+----------+--------------+--------------------+------------------+-----------+-------------+-----------+----+-----------------+--------------------+--------------------+-----------+\n",
            "|marketplace|customer_id|     review_id|product_id|product_parent|       product_title|  product_category|star_rating|helpful_votes|total_votes|vine|verified_purchase|     review_headline|         review_body|review_date|\n",
            "+-----------+-----------+--------------+----------+--------------+--------------------+------------------+-----------+-------------+-----------+----+-----------------+--------------------+--------------------+-----------+\n",
            "|         US|     179886| RY01SAV7HZ8QO|B00NTI0CQ2|     667358431|Aketek 1080P LED ...|Home Entertainment|          4|            0|          0|   N|                Y|good enough for m...|not the best pict...| 2015-08-31|\n",
            "|         US|   37293769|R1XX8SDGJ4MZ4L|B00BUCLVZU|     621695622|TiVo Mini with IR...|Home Entertainment|          5|            0|          0|   N|                N|Tell the Cable Co...|Not only do my Ti...| 2015-08-31|\n",
            "|         US|    8332121|R149Q3B5L33NN5|B00RBX9D5W|     143071132|Apple TV MD199LL/...|Home Entertainment|          5|            0|          0|   N|                Y|    Works perfectly!|Works perfectly! ...| 2015-08-31|\n",
            "|         US|   47054962|R2ZVD69Z6KPJ4O|B00UJ3IULO|     567816707|New Roku 3 6.5 Fo...|Home Entertainment|          1|            0|          2|   N|                Y|It doesn't work. ...|It doesn't work. ...| 2015-08-31|\n",
            "|         US|   23413911|R1DIKG2G33ZLNP|B0037UCTXG|     909557698|Generic DVI-I Dua...|Home Entertainment|          4|            0|          0|   N|                Y|         As pictured|I received the it...| 2015-08-31|\n",
            "|         US|    4417771|R3L6FGKAW0EYFI|B004N866SU|     414565179|Samsung 3D LED HD...|Home Entertainment|          1|            1|          1|   N|                N|Only lasts 3-4 ye...|I bought this TV ...| 2015-08-31|\n",
            "|         US|   47900707| RAO0QZH5VC6VI|B00JE6AOJS|     798450889|Jiake Wireless Bl...|Home Entertainment|          1|            0|          0|   N|                Y|            One Star|    Waste of $$$$$$$| 2015-08-31|\n",
            "|         US|   34112894|R25IK0UAHWNB22|B00COL0B7A|     777554234|3pcs/lot 3in1 3ft...|Home Entertainment|          3|            0|          0|   N|                Y|         Three Stars|Nice but all thre...| 2015-08-31|\n",
            "|         US|   20691979|R2A9IHKZMTMAL1|B00QHLSKOE|     885228855|Matricom G-Box Q²...|Home Entertainment|          5|            1|          2|   N|                Y|Yes...exactly wha...|Oh, yeah...doesn'...| 2015-08-31|\n",
            "|         US|   25983343| R5XVKTHL6SITI|B00UNL2MUW|     164482798|VIZIO S2920W-C0B ...|Home Entertainment|          5|            0|          0|   N|                Y|Fantastic sound. ...|Fantastic sound. ...| 2015-08-31|\n",
            "+-----------+-----------+--------------+----------+--------------+--------------------+------------------+-----------+-------------+-----------+----+-----------------+--------------------+--------------------+-----------+\n",
            "only showing top 10 rows\n",
            "\n"
          ],
          "name": "stdout"
        }
      ]
    },
    {
      "cell_type": "code",
      "metadata": {
        "id": "ebiKlzsaVTzR",
        "colab": {
          "base_uri": "https://localhost:8080/"
        },
        "outputId": "2009cdc1-a314-4257-cd46-0b2c5c9fcfd7"
      },
      "source": [
        "# examine the schema\r\n",
        "df.printSchema()"
      ],
      "execution_count": 5,
      "outputs": [
        {
          "output_type": "stream",
          "text": [
            "root\n",
            " |-- marketplace: string (nullable = true)\n",
            " |-- customer_id: string (nullable = true)\n",
            " |-- review_id: string (nullable = true)\n",
            " |-- product_id: string (nullable = true)\n",
            " |-- product_parent: string (nullable = true)\n",
            " |-- product_title: string (nullable = true)\n",
            " |-- product_category: string (nullable = true)\n",
            " |-- star_rating: string (nullable = true)\n",
            " |-- helpful_votes: string (nullable = true)\n",
            " |-- total_votes: string (nullable = true)\n",
            " |-- vine: string (nullable = true)\n",
            " |-- verified_purchase: string (nullable = true)\n",
            " |-- review_headline: string (nullable = true)\n",
            " |-- review_body: string (nullable = true)\n",
            " |-- review_date: string (nullable = true)\n",
            "\n"
          ],
          "name": "stdout"
        }
      ]
    },
    {
      "cell_type": "code",
      "metadata": {
        "id": "t0zCVKd2e6rb"
      },
      "source": [
        "# import struct fields that we can use\r\n",
        "from pyspark.sql.types import StructField, StringType, IntegerType, DateType, StructType"
      ],
      "execution_count": 6,
      "outputs": []
    },
    {
      "cell_type": "code",
      "metadata": {
        "colab": {
          "base_uri": "https://localhost:8080/"
        },
        "id": "TeNaJ1ARYxe9",
        "outputId": "a8a58de8-52db-48d3-82ad-033e5979e0ad"
      },
      "source": [
        "# create two lists of struct fields\r\n",
        "schema1 = [StructField(\"marketplace\", StringType(), True), StructField(\"customer_id\", IntegerType(), True), StructField(\"review_id\", StringType(), False), StructField(\"product_id\", StringType(), True), StructField(\"product_parent\", IntegerType(), True), StructField(\"product_title\", StringType(), True), StructField(\"product_category\", StringType(), True), StructField(\"star_rating\", IntegerType(), True), StructField(\"helpful_votes\", IntegerType(), True), StructField(\"total_votes\", IntegerType(), True), StructField(\"vine\", StringType(), True), StructField(\"verified_purchase\", StringType(), True), StructField(\"review_headline\", StringType(), True), StructField(\"review_body\", StringType(), True), StructField(\"review_date\", DateType(), True)]\r\n",
        "schema2 = [StructField(\"marketplace\", StringType(), True), StructField(\"customer_id\", IntegerType(), False), StructField(\"review_id\", StringType(), True), StructField(\"product_id\", StringType(), False), StructField(\"product_parent\", IntegerType(), True), StructField(\"product_title\", StringType(), True), StructField(\"product_category\", StringType(), True), StructField(\"star_rating\", IntegerType(), True), StructField(\"helpful_votes\", IntegerType(), True), StructField(\"total_votes\", IntegerType(), True), StructField(\"vine\", StringType(), True), StructField(\"verified_purchase\", StringType(), True), StructField(\"review_headline\", StringType(), True), StructField(\"review_body\", StringType(), True), StructField(\"review_date\", DateType(), True)]\r\n",
        "print(schema1)\r\n",
        "print(schema2)"
      ],
      "execution_count": 7,
      "outputs": [
        {
          "output_type": "stream",
          "text": [
            "[StructField(marketplace,StringType,true), StructField(customer_id,IntegerType,true), StructField(review_id,StringType,false), StructField(product_id,StringType,true), StructField(product_parent,IntegerType,true), StructField(product_title,StringType,true), StructField(product_category,StringType,true), StructField(star_rating,IntegerType,true), StructField(helpful_votes,IntegerType,true), StructField(total_votes,IntegerType,true), StructField(vine,StringType,true), StructField(verified_purchase,StringType,true), StructField(review_headline,StringType,true), StructField(review_body,StringType,true), StructField(review_date,DateType,true)]\n",
            "[StructField(marketplace,StringType,true), StructField(customer_id,IntegerType,false), StructField(review_id,StringType,true), StructField(product_id,StringType,false), StructField(product_parent,IntegerType,true), StructField(product_title,StringType,true), StructField(product_category,StringType,true), StructField(star_rating,IntegerType,true), StructField(helpful_votes,IntegerType,true), StructField(total_votes,IntegerType,true), StructField(vine,StringType,true), StructField(verified_purchase,StringType,true), StructField(review_headline,StringType,true), StructField(review_body,StringType,true), StructField(review_date,DateType,true)]\n"
          ],
          "name": "stdout"
        }
      ]
    },
    {
      "cell_type": "code",
      "metadata": {
        "colab": {
          "base_uri": "https://localhost:8080/"
        },
        "id": "4oJw79pfe6yy",
        "outputId": "6cd4dfc7-2a5f-4516-f9ae-c613f85c4237"
      },
      "source": [
        "# pass in our fields\r\n",
        "final1 = StructType(fields=schema1)\r\n",
        "final2 = StructType(fields=schema2)\r\n",
        "print(final1)\r\n",
        "print(final2)"
      ],
      "execution_count": 8,
      "outputs": [
        {
          "output_type": "stream",
          "text": [
            "StructType(List(StructField(marketplace,StringType,true),StructField(customer_id,IntegerType,true),StructField(review_id,StringType,false),StructField(product_id,StringType,true),StructField(product_parent,IntegerType,true),StructField(product_title,StringType,true),StructField(product_category,StringType,true),StructField(star_rating,IntegerType,true),StructField(helpful_votes,IntegerType,true),StructField(total_votes,IntegerType,true),StructField(vine,StringType,true),StructField(verified_purchase,StringType,true),StructField(review_headline,StringType,true),StructField(review_body,StringType,true),StructField(review_date,DateType,true)))\n",
            "StructType(List(StructField(marketplace,StringType,true),StructField(customer_id,IntegerType,false),StructField(review_id,StringType,true),StructField(product_id,StringType,false),StructField(product_parent,IntegerType,true),StructField(product_title,StringType,true),StructField(product_category,StringType,true),StructField(star_rating,IntegerType,true),StructField(helpful_votes,IntegerType,true),StructField(total_votes,IntegerType,true),StructField(vine,StringType,true),StructField(verified_purchase,StringType,true),StructField(review_headline,StringType,true),StructField(review_body,StringType,true),StructField(review_date,DateType,true)))\n"
          ],
          "name": "stdout"
        }
      ]
    },
    {
      "cell_type": "code",
      "metadata": {
        "id": "7iYSWRoYe64t"
      },
      "source": [
        "# read our data with our new schema\r\n",
        "df1 = spark.read.option('header', 'true').csv(SparkFiles.get(\"amazon_reviews_us_Home_Entertainment_v1_00.tsv.gz\"), schema=final1, sep=\"\\t\")\r\n",
        "df2 = spark.read.option('header', 'true').csv(SparkFiles.get(\"amazon_reviews_us_Home_Entertainment_v1_00.tsv.gz\"), schema=final2, sep=\"\\t\")"
      ],
      "execution_count": 9,
      "outputs": []
    },
    {
      "cell_type": "code",
      "metadata": {
        "colab": {
          "base_uri": "https://localhost:8080/"
        },
        "id": "45Nc7xIokeAi",
        "outputId": "b6452fc6-067f-4110-cbd1-ad54dbbff9a2"
      },
      "source": [
        "# Show DataFrame 1\r\n",
        "df1.show(10)"
      ],
      "execution_count": 10,
      "outputs": [
        {
          "output_type": "stream",
          "text": [
            "+-----------+-----------+--------------+----------+--------------+--------------------+------------------+-----------+-------------+-----------+----+-----------------+--------------------+--------------------+-----------+\n",
            "|marketplace|customer_id|     review_id|product_id|product_parent|       product_title|  product_category|star_rating|helpful_votes|total_votes|vine|verified_purchase|     review_headline|         review_body|review_date|\n",
            "+-----------+-----------+--------------+----------+--------------+--------------------+------------------+-----------+-------------+-----------+----+-----------------+--------------------+--------------------+-----------+\n",
            "|         US|     179886| RY01SAV7HZ8QO|B00NTI0CQ2|     667358431|Aketek 1080P LED ...|Home Entertainment|          4|            0|          0|   N|                Y|good enough for m...|not the best pict...| 2015-08-31|\n",
            "|         US|   37293769|R1XX8SDGJ4MZ4L|B00BUCLVZU|     621695622|TiVo Mini with IR...|Home Entertainment|          5|            0|          0|   N|                N|Tell the Cable Co...|Not only do my Ti...| 2015-08-31|\n",
            "|         US|    8332121|R149Q3B5L33NN5|B00RBX9D5W|     143071132|Apple TV MD199LL/...|Home Entertainment|          5|            0|          0|   N|                Y|    Works perfectly!|Works perfectly! ...| 2015-08-31|\n",
            "|         US|   47054962|R2ZVD69Z6KPJ4O|B00UJ3IULO|     567816707|New Roku 3 6.5 Fo...|Home Entertainment|          1|            0|          2|   N|                Y|It doesn't work. ...|It doesn't work. ...| 2015-08-31|\n",
            "|         US|   23413911|R1DIKG2G33ZLNP|B0037UCTXG|     909557698|Generic DVI-I Dua...|Home Entertainment|          4|            0|          0|   N|                Y|         As pictured|I received the it...| 2015-08-31|\n",
            "|         US|    4417771|R3L6FGKAW0EYFI|B004N866SU|     414565179|Samsung 3D LED HD...|Home Entertainment|          1|            1|          1|   N|                N|Only lasts 3-4 ye...|I bought this TV ...| 2015-08-31|\n",
            "|         US|   47900707| RAO0QZH5VC6VI|B00JE6AOJS|     798450889|Jiake Wireless Bl...|Home Entertainment|          1|            0|          0|   N|                Y|            One Star|    Waste of $$$$$$$| 2015-08-31|\n",
            "|         US|   34112894|R25IK0UAHWNB22|B00COL0B7A|     777554234|3pcs/lot 3in1 3ft...|Home Entertainment|          3|            0|          0|   N|                Y|         Three Stars|Nice but all thre...| 2015-08-31|\n",
            "|         US|   20691979|R2A9IHKZMTMAL1|B00QHLSKOE|     885228855|Matricom G-Box Q²...|Home Entertainment|          5|            1|          2|   N|                Y|Yes...exactly wha...|Oh, yeah...doesn'...| 2015-08-31|\n",
            "|         US|   25983343| R5XVKTHL6SITI|B00UNL2MUW|     164482798|VIZIO S2920W-C0B ...|Home Entertainment|          5|            0|          0|   N|                Y|Fantastic sound. ...|Fantastic sound. ...| 2015-08-31|\n",
            "+-----------+-----------+--------------+----------+--------------+--------------------+------------------+-----------+-------------+-----------+----+-----------------+--------------------+--------------------+-----------+\n",
            "only showing top 10 rows\n",
            "\n"
          ],
          "name": "stdout"
        }
      ]
    },
    {
      "cell_type": "code",
      "metadata": {
        "colab": {
          "base_uri": "https://localhost:8080/"
        },
        "id": "kn2iUnDuumPA",
        "outputId": "07b7c188-ca2b-41bb-c100-4e3798647126"
      },
      "source": [
        "# Show DataFrame 2\r\n",
        "df2.show(10)"
      ],
      "execution_count": 11,
      "outputs": [
        {
          "output_type": "stream",
          "text": [
            "+-----------+-----------+--------------+----------+--------------+--------------------+------------------+-----------+-------------+-----------+----+-----------------+--------------------+--------------------+-----------+\n",
            "|marketplace|customer_id|     review_id|product_id|product_parent|       product_title|  product_category|star_rating|helpful_votes|total_votes|vine|verified_purchase|     review_headline|         review_body|review_date|\n",
            "+-----------+-----------+--------------+----------+--------------+--------------------+------------------+-----------+-------------+-----------+----+-----------------+--------------------+--------------------+-----------+\n",
            "|         US|     179886| RY01SAV7HZ8QO|B00NTI0CQ2|     667358431|Aketek 1080P LED ...|Home Entertainment|          4|            0|          0|   N|                Y|good enough for m...|not the best pict...| 2015-08-31|\n",
            "|         US|   37293769|R1XX8SDGJ4MZ4L|B00BUCLVZU|     621695622|TiVo Mini with IR...|Home Entertainment|          5|            0|          0|   N|                N|Tell the Cable Co...|Not only do my Ti...| 2015-08-31|\n",
            "|         US|    8332121|R149Q3B5L33NN5|B00RBX9D5W|     143071132|Apple TV MD199LL/...|Home Entertainment|          5|            0|          0|   N|                Y|    Works perfectly!|Works perfectly! ...| 2015-08-31|\n",
            "|         US|   47054962|R2ZVD69Z6KPJ4O|B00UJ3IULO|     567816707|New Roku 3 6.5 Fo...|Home Entertainment|          1|            0|          2|   N|                Y|It doesn't work. ...|It doesn't work. ...| 2015-08-31|\n",
            "|         US|   23413911|R1DIKG2G33ZLNP|B0037UCTXG|     909557698|Generic DVI-I Dua...|Home Entertainment|          4|            0|          0|   N|                Y|         As pictured|I received the it...| 2015-08-31|\n",
            "|         US|    4417771|R3L6FGKAW0EYFI|B004N866SU|     414565179|Samsung 3D LED HD...|Home Entertainment|          1|            1|          1|   N|                N|Only lasts 3-4 ye...|I bought this TV ...| 2015-08-31|\n",
            "|         US|   47900707| RAO0QZH5VC6VI|B00JE6AOJS|     798450889|Jiake Wireless Bl...|Home Entertainment|          1|            0|          0|   N|                Y|            One Star|    Waste of $$$$$$$| 2015-08-31|\n",
            "|         US|   34112894|R25IK0UAHWNB22|B00COL0B7A|     777554234|3pcs/lot 3in1 3ft...|Home Entertainment|          3|            0|          0|   N|                Y|         Three Stars|Nice but all thre...| 2015-08-31|\n",
            "|         US|   20691979|R2A9IHKZMTMAL1|B00QHLSKOE|     885228855|Matricom G-Box Q²...|Home Entertainment|          5|            1|          2|   N|                Y|Yes...exactly wha...|Oh, yeah...doesn'...| 2015-08-31|\n",
            "|         US|   25983343| R5XVKTHL6SITI|B00UNL2MUW|     164482798|VIZIO S2920W-C0B ...|Home Entertainment|          5|            0|          0|   N|                Y|Fantastic sound. ...|Fantastic sound. ...| 2015-08-31|\n",
            "+-----------+-----------+--------------+----------+--------------+--------------------+------------------+-----------+-------------+-----------+----+-----------------+--------------------+--------------------+-----------+\n",
            "only showing top 10 rows\n",
            "\n"
          ],
          "name": "stdout"
        }
      ]
    },
    {
      "cell_type": "code",
      "metadata": {
        "colab": {
          "base_uri": "https://localhost:8080/"
        },
        "id": "uhQQM_KDkeSh",
        "outputId": "2c70de75-93fb-45fa-d557-96557b4e89e8"
      },
      "source": [
        "# examine the new schema; I believe these results are an error: all nullable attributes are always true, despite definition in the static schema and having been correctly interpreted.\r\n",
        "df1.printSchema()"
      ],
      "execution_count": 12,
      "outputs": [
        {
          "output_type": "stream",
          "text": [
            "root\n",
            " |-- marketplace: string (nullable = true)\n",
            " |-- customer_id: integer (nullable = true)\n",
            " |-- review_id: string (nullable = true)\n",
            " |-- product_id: string (nullable = true)\n",
            " |-- product_parent: integer (nullable = true)\n",
            " |-- product_title: string (nullable = true)\n",
            " |-- product_category: string (nullable = true)\n",
            " |-- star_rating: integer (nullable = true)\n",
            " |-- helpful_votes: integer (nullable = true)\n",
            " |-- total_votes: integer (nullable = true)\n",
            " |-- vine: string (nullable = true)\n",
            " |-- verified_purchase: string (nullable = true)\n",
            " |-- review_headline: string (nullable = true)\n",
            " |-- review_body: string (nullable = true)\n",
            " |-- review_date: date (nullable = true)\n",
            "\n"
          ],
          "name": "stdout"
        }
      ]
    },
    {
      "cell_type": "code",
      "metadata": {
        "colab": {
          "base_uri": "https://localhost:8080/"
        },
        "id": "o0xG4fkyYxQV",
        "outputId": "ec49d1b1-89ae-42c4-c470-b4dfc6ad336b"
      },
      "source": [
        "# count the number of records (rows) in the dataset\r\n",
        "print(df1.count())\r\n",
        "print(df2.count())"
      ],
      "execution_count": 13,
      "outputs": [
        {
          "output_type": "stream",
          "text": [
            "705889\n",
            "705889\n"
          ],
          "name": "stdout"
        }
      ]
    },
    {
      "cell_type": "code",
      "metadata": {
        "id": "mBLYyl0PVT4a",
        "colab": {
          "base_uri": "https://localhost:8080/"
        },
        "outputId": "ff16145d-c302-4f32-8b77-50e71c85e36f"
      },
      "source": [
        "# drop incomplete rows\r\n",
        "df1 = df1.dropna()\r\n",
        "df2 = df2.dropna()\r\n",
        "print(df1.count())\r\n",
        "print(df2.count())"
      ],
      "execution_count": 14,
      "outputs": [
        {
          "output_type": "stream",
          "text": [
            "705850\n",
            "705850\n"
          ],
          "name": "stdout"
        }
      ]
    },
    {
      "cell_type": "code",
      "metadata": {
        "colab": {
          "base_uri": "https://localhost:8080/"
        },
        "id": "QewBcAyUYxXk",
        "outputId": "cb86b230-3ef1-4cd3-ba31-8ac828fe83ba"
      },
      "source": [
        "# transform the dataset to fit the tables in the schema file\r\n",
        "# 1 use df1 to create a DataFrame to match 'review_id_table' table\r\n",
        "review_id_df = df1.select([\"review_id\", \"customer_id\", \"product_id\", \"product_parent\", \"review_date\"])\r\n",
        "review_id_df.show()"
      ],
      "execution_count": 15,
      "outputs": [
        {
          "output_type": "stream",
          "text": [
            "+--------------+-----------+----------+--------------+-----------+\n",
            "|     review_id|customer_id|product_id|product_parent|review_date|\n",
            "+--------------+-----------+----------+--------------+-----------+\n",
            "| RY01SAV7HZ8QO|     179886|B00NTI0CQ2|     667358431| 2015-08-31|\n",
            "|R1XX8SDGJ4MZ4L|   37293769|B00BUCLVZU|     621695622| 2015-08-31|\n",
            "|R149Q3B5L33NN5|    8332121|B00RBX9D5W|     143071132| 2015-08-31|\n",
            "|R2ZVD69Z6KPJ4O|   47054962|B00UJ3IULO|     567816707| 2015-08-31|\n",
            "|R1DIKG2G33ZLNP|   23413911|B0037UCTXG|     909557698| 2015-08-31|\n",
            "|R3L6FGKAW0EYFI|    4417771|B004N866SU|     414565179| 2015-08-31|\n",
            "| RAO0QZH5VC6VI|   47900707|B00JE6AOJS|     798450889| 2015-08-31|\n",
            "|R25IK0UAHWNB22|   34112894|B00COL0B7A|     777554234| 2015-08-31|\n",
            "|R2A9IHKZMTMAL1|   20691979|B00QHLSKOE|     885228855| 2015-08-31|\n",
            "| R5XVKTHL6SITI|   25983343|B00UNL2MUW|     164482798| 2015-08-31|\n",
            "|R2QZZOSTDDY1IE|   35816068|B00RIC9JB4|     184834831| 2015-08-31|\n",
            "|R38CUDCFPSNYTD|   10628020|B00HPMCO6O|     444378461| 2015-08-31|\n",
            "| RM6ZR6NH052YH|    9059625|B004QGXWS6|     770226547| 2015-08-31|\n",
            "| RUQK5N4WH8UN8|    2681147|B00FO12XY6|     448806082| 2015-08-31|\n",
            "|R21LWSBQWWJYZ3|   33449922|B00BD7UVO4|     374427271| 2015-08-31|\n",
            "| R8W5S53RQ2DF7|   43069144|B00TRQPEYK|     614207013| 2015-08-31|\n",
            "|R3ENME3JQBWXZS|   46780686|B005STXQG8|     689442799| 2015-08-31|\n",
            "|R3URL5K7DHHYK7|   49037595|B00BEL11RA|     910670994| 2015-08-31|\n",
            "|R22YISZKS35YZX|   27868511|B00QHLSKOE|     885228855| 2015-08-31|\n",
            "|R3IIOLWHWC297U|    3004043|B00MWCJ8VQ|     946374680| 2015-08-31|\n",
            "+--------------+-----------+----------+--------------+-----------+\n",
            "only showing top 20 rows\n",
            "\n"
          ],
          "name": "stdout"
        }
      ]
    },
    {
      "cell_type": "code",
      "metadata": {
        "colab": {
          "base_uri": "https://localhost:8080/"
        },
        "id": "NmhR5KKYyqr-",
        "outputId": "e3dc5228-1549-46e2-e7e3-bfce02716dcd"
      },
      "source": [
        "# 2 use df2 to create a DataFrame to match 'products' table\r\n",
        "products_df = df2.select([\"product_id\", \"product_title\"]).distinct()\r\n",
        "products_df.show()"
      ],
      "execution_count": 16,
      "outputs": [
        {
          "output_type": "stream",
          "text": [
            "+----------+--------------------+\n",
            "|product_id|       product_title|\n",
            "+----------+--------------------+\n",
            "|B00N9OT6RM|Upstar 19-Inch 72...|\n",
            "|B007R9RUPU|Kinivo LS210 Port...|\n",
            "|B00U9U9AAM|Samsung J6200, SB...|\n",
            "|B00QCLTOQM|Panasonic TC32A40...|\n",
            "|B007F9XJW0|Sony DVPFX780 7-I...|\n",
            "|B00JA7ZQOY|Minix X7mini Andr...|\n",
            "|B008I641TE|SquareTrade 2-Yea...|\n",
            "|B00EJ5UJZ8|PowerSmart 4200mA...|\n",
            "|B006L8TX94|TiVo Premiere 500...|\n",
            "|B00R8K9ZH4|Fosmon HYBO-DUOC ...|\n",
            "|B001JHJK22|Mediabridge - RCA...|\n",
            "|B00CWEJ5BW|2-Year Electronic...|\n",
            "|B000BSHLLW|Ziotek Purse Lock...|\n",
            "|B0019OJOTE|FAVI 32-Inch 1080...|\n",
            "|B00MOCT3NW|BenQ MH630 1.4A 1...|\n",
            "|B00VWV1O3S|12V 8Ah SLA Batte...|\n",
            "|B00BBAG0DY|LG Electronics LA...|\n",
            "|B00BXF7I8I|Seiki 1080p 60Hz ...|\n",
            "|B0011ZOZ36|Vizio VW26LHDTV20...|\n",
            "|B00Q8DB4YY|Atoah MXIII TV Bo...|\n",
            "+----------+--------------------+\n",
            "only showing top 20 rows\n",
            "\n"
          ],
          "name": "stdout"
        }
      ]
    },
    {
      "cell_type": "code",
      "metadata": {
        "colab": {
          "base_uri": "https://localhost:8080/"
        },
        "id": "IIsDzq5N4sow",
        "outputId": "1ef9d0d6-7175-497b-a1d6-607fb6deab3f"
      },
      "source": [
        "df.filter(df[\"product_id\"] == \"B003CCW4OS\").select([\"product_id\", \"product_title\"]).show()"
      ],
      "execution_count": 17,
      "outputs": [
        {
          "output_type": "stream",
          "text": [
            "+----------+--------------------+\n",
            "|product_id|       product_title|\n",
            "+----------+--------------------+\n",
            "|B003CCW4OS|FAVI 42-Inch 1080...|\n",
            "|B003CCW4OS|FAVI 42-Inch 1080...|\n",
            "|B003CCW4OS|FAVI 42-Inch 1080...|\n",
            "|B003CCW4OS|FAVI 42-Inch 1080...|\n",
            "|B003CCW4OS|FAVI 42-Inch 1080...|\n",
            "+----------+--------------------+\n",
            "\n"
          ],
          "name": "stdout"
        }
      ]
    },
    {
      "cell_type": "code",
      "metadata": {
        "colab": {
          "base_uri": "https://localhost:8080/"
        },
        "id": "RNKO_CZx5XTE",
        "outputId": "98dad9bd-4a06-42ee-9fff-87f0d7004099"
      },
      "source": [
        "df2.filter(df2[\"review_date\"] == \"2015-08-31\").show()"
      ],
      "execution_count": 18,
      "outputs": [
        {
          "output_type": "stream",
          "text": [
            "+-----------+-----------+--------------+----------+--------------+--------------------+------------------+-----------+-------------+-----------+----+-----------------+--------------------+--------------------+-----------+\n",
            "|marketplace|customer_id|     review_id|product_id|product_parent|       product_title|  product_category|star_rating|helpful_votes|total_votes|vine|verified_purchase|     review_headline|         review_body|review_date|\n",
            "+-----------+-----------+--------------+----------+--------------+--------------------+------------------+-----------+-------------+-----------+----+-----------------+--------------------+--------------------+-----------+\n",
            "|         US|     179886| RY01SAV7HZ8QO|B00NTI0CQ2|     667358431|Aketek 1080P LED ...|Home Entertainment|          4|            0|          0|   N|                Y|good enough for m...|not the best pict...| 2015-08-31|\n",
            "|         US|   37293769|R1XX8SDGJ4MZ4L|B00BUCLVZU|     621695622|TiVo Mini with IR...|Home Entertainment|          5|            0|          0|   N|                N|Tell the Cable Co...|Not only do my Ti...| 2015-08-31|\n",
            "|         US|    8332121|R149Q3B5L33NN5|B00RBX9D5W|     143071132|Apple TV MD199LL/...|Home Entertainment|          5|            0|          0|   N|                Y|    Works perfectly!|Works perfectly! ...| 2015-08-31|\n",
            "|         US|   47054962|R2ZVD69Z6KPJ4O|B00UJ3IULO|     567816707|New Roku 3 6.5 Fo...|Home Entertainment|          1|            0|          2|   N|                Y|It doesn't work. ...|It doesn't work. ...| 2015-08-31|\n",
            "|         US|   23413911|R1DIKG2G33ZLNP|B0037UCTXG|     909557698|Generic DVI-I Dua...|Home Entertainment|          4|            0|          0|   N|                Y|         As pictured|I received the it...| 2015-08-31|\n",
            "|         US|    4417771|R3L6FGKAW0EYFI|B004N866SU|     414565179|Samsung 3D LED HD...|Home Entertainment|          1|            1|          1|   N|                N|Only lasts 3-4 ye...|I bought this TV ...| 2015-08-31|\n",
            "|         US|   47900707| RAO0QZH5VC6VI|B00JE6AOJS|     798450889|Jiake Wireless Bl...|Home Entertainment|          1|            0|          0|   N|                Y|            One Star|    Waste of $$$$$$$| 2015-08-31|\n",
            "|         US|   34112894|R25IK0UAHWNB22|B00COL0B7A|     777554234|3pcs/lot 3in1 3ft...|Home Entertainment|          3|            0|          0|   N|                Y|         Three Stars|Nice but all thre...| 2015-08-31|\n",
            "|         US|   20691979|R2A9IHKZMTMAL1|B00QHLSKOE|     885228855|Matricom G-Box Q²...|Home Entertainment|          5|            1|          2|   N|                Y|Yes...exactly wha...|Oh, yeah...doesn'...| 2015-08-31|\n",
            "|         US|   25983343| R5XVKTHL6SITI|B00UNL2MUW|     164482798|VIZIO S2920W-C0B ...|Home Entertainment|          5|            0|          0|   N|                Y|Fantastic sound. ...|Fantastic sound. ...| 2015-08-31|\n",
            "|         US|   35816068|R2QZZOSTDDY1IE|B00RIC9JB4|     184834831|Hitachi 49\" Class...|Home Entertainment|          3|            3|          6|   N|                Y|               risky|Great tv but Tv d...| 2015-08-31|\n",
            "|         US|   10628020|R38CUDCFPSNYTD|B00HPMCO6O|     444378461|Sony BDPS5200 3D ...|Home Entertainment|          5|            0|          0|   N|                Y|          Five Stars|EXCELLENT SERVICE...| 2015-08-31|\n",
            "|         US|    9059625| RM6ZR6NH052YH|B004QGXWS6|     770226547|Sylvania 7-Inch T...|Home Entertainment|          3|            1|          2|   N|                Y|They worked great...|They worked great...| 2015-08-31|\n",
            "|         US|    2681147| RUQK5N4WH8UN8|B00FO12XY6|     448806082|Roku HD Streaming...|Home Entertainment|          5|            0|          0|   N|                Y|          Five Stars|Smooth and worked...| 2015-08-31|\n",
            "|         US|   33449922|R21LWSBQWWJYZ3|B00BD7UVO4|     374427271|LG Electronics BP...|Home Entertainment|          5|            0|          0|   N|                Y|          Five Stars|     Works very well| 2015-08-31|\n",
            "|         US|   43069144| R8W5S53RQ2DF7|B00TRQPEYK|     614207013|LG Electronics LF...|Home Entertainment|          5|            0|          0|   N|                Y|               LG TV|The TV arrived qu...| 2015-08-31|\n",
            "|         US|   46780686|R3ENME3JQBWXZS|B005STXQG8|     689442799|SquareTrade TV Pr...|Home Entertainment|          5|            0|          1|   N|                Y|          Five Stars|well worth the mo...| 2015-08-31|\n",
            "|         US|   49037595|R3URL5K7DHHYK7|B00BEL11RA|     910670994|Cambridge - Azur ...|Home Entertainment|          5|            1|          1|   N|                Y|            Love it.|Great Blu-ray pla...| 2015-08-31|\n",
            "|         US|   27868511|R22YISZKS35YZX|B00QHLSKOE|     885228855|Matricom G-Box Q²...|Home Entertainment|          5|            2|          3|   N|                Y|If your on the fe...|Great media cente...| 2015-08-31|\n",
            "|         US|    3004043|R3IIOLWHWC297U|B00MWCJ8VQ|     946374680|Roku 3500XB Strea...|Home Entertainment|          5|            0|          0|   N|                Y|          Five Stars|       great product| 2015-08-31|\n",
            "+-----------+-----------+--------------+----------+--------------+--------------------+------------------+-----------+-------------+-----------+----+-----------------+--------------------+--------------------+-----------+\n",
            "only showing top 20 rows\n",
            "\n"
          ],
          "name": "stdout"
        }
      ]
    },
    {
      "cell_type": "code",
      "metadata": {
        "colab": {
          "base_uri": "https://localhost:8080/"
        },
        "id": "UYgYnMJnyqvd",
        "outputId": "a3897108-c9c4-4b0e-ed7d-e33396d4bd8f"
      },
      "source": [
        "# 3 use df2 to create create a DataFrame to match 'customers' table\r\n",
        "customers_df = df2.groupBy(\"customer_id\").count().select(\"customer_id\", \"count\")\r\n",
        "customers_df.show()"
      ],
      "execution_count": 19,
      "outputs": [
        {
          "output_type": "stream",
          "text": [
            "+-----------+-----+\n",
            "|customer_id|count|\n",
            "+-----------+-----+\n",
            "|   10142992|    1|\n",
            "|   16457323|    6|\n",
            "|   11935383|    1|\n",
            "|   46277736|    1|\n",
            "|   13671072|    1|\n",
            "|   21453814|    1|\n",
            "|   17684885|    1|\n",
            "|   20415768|    1|\n",
            "|   15212710|    1|\n",
            "|    5220924|    1|\n",
            "|   46253451|    6|\n",
            "|     971908|    1|\n",
            "|   32829933|    1|\n",
            "|   51221518|    1|\n",
            "|   12002637|    2|\n",
            "|   16105308|    1|\n",
            "|     135867|    1|\n",
            "|   47425808|    1|\n",
            "|   43138273|    1|\n",
            "|   16411995|    1|\n",
            "+-----------+-----+\n",
            "only showing top 20 rows\n",
            "\n"
          ],
          "name": "stdout"
        }
      ]
    },
    {
      "cell_type": "code",
      "metadata": {
        "colab": {
          "base_uri": "https://localhost:8080/"
        },
        "id": "A-c6YgT0_Tje",
        "outputId": "40dfc928-4df2-46db-e1db-1ccd554af4fc"
      },
      "source": [
        "# rename the 'count' column to 'customer_count'\r\n",
        "customers_df = customers_df.withColumnRenamed('count', 'customer_count')\r\n",
        "customers_df.show()"
      ],
      "execution_count": 20,
      "outputs": [
        {
          "output_type": "stream",
          "text": [
            "+-----------+--------------+\n",
            "|customer_id|customer_count|\n",
            "+-----------+--------------+\n",
            "|   10142992|             1|\n",
            "|   16457323|             6|\n",
            "|   11935383|             1|\n",
            "|   46277736|             1|\n",
            "|   13671072|             1|\n",
            "|   21453814|             1|\n",
            "|   17684885|             1|\n",
            "|   20415768|             1|\n",
            "|   15212710|             1|\n",
            "|    5220924|             1|\n",
            "|   46253451|             6|\n",
            "|     971908|             1|\n",
            "|   32829933|             1|\n",
            "|   51221518|             1|\n",
            "|   12002637|             2|\n",
            "|   16105308|             1|\n",
            "|     135867|             1|\n",
            "|   47425808|             1|\n",
            "|   43138273|             1|\n",
            "|   16411995|             1|\n",
            "+-----------+--------------+\n",
            "only showing top 20 rows\n",
            "\n"
          ],
          "name": "stdout"
        }
      ]
    },
    {
      "cell_type": "code",
      "metadata": {
        "colab": {
          "base_uri": "https://localhost:8080/"
        },
        "id": "rVIHmZz6yq0r",
        "outputId": "b03a9436-0cbc-4386-e201-afec92019b35"
      },
      "source": [
        "# 4 use df2 to create create a DataFrame to match 'vine_table' table\r\n",
        "vine_df = df2.select([\"review_id\", \"star_rating\", \"helpful_votes\", \"total_votes\", \"vine\"])\r\n",
        "vine_df.show()"
      ],
      "execution_count": 21,
      "outputs": [
        {
          "output_type": "stream",
          "text": [
            "+--------------+-----------+-------------+-----------+----+\n",
            "|     review_id|star_rating|helpful_votes|total_votes|vine|\n",
            "+--------------+-----------+-------------+-----------+----+\n",
            "| RY01SAV7HZ8QO|          4|            0|          0|   N|\n",
            "|R1XX8SDGJ4MZ4L|          5|            0|          0|   N|\n",
            "|R149Q3B5L33NN5|          5|            0|          0|   N|\n",
            "|R2ZVD69Z6KPJ4O|          1|            0|          2|   N|\n",
            "|R1DIKG2G33ZLNP|          4|            0|          0|   N|\n",
            "|R3L6FGKAW0EYFI|          1|            1|          1|   N|\n",
            "| RAO0QZH5VC6VI|          1|            0|          0|   N|\n",
            "|R25IK0UAHWNB22|          3|            0|          0|   N|\n",
            "|R2A9IHKZMTMAL1|          5|            1|          2|   N|\n",
            "| R5XVKTHL6SITI|          5|            0|          0|   N|\n",
            "|R2QZZOSTDDY1IE|          3|            3|          6|   N|\n",
            "|R38CUDCFPSNYTD|          5|            0|          0|   N|\n",
            "| RM6ZR6NH052YH|          3|            1|          2|   N|\n",
            "| RUQK5N4WH8UN8|          5|            0|          0|   N|\n",
            "|R21LWSBQWWJYZ3|          5|            0|          0|   N|\n",
            "| R8W5S53RQ2DF7|          5|            0|          0|   N|\n",
            "|R3ENME3JQBWXZS|          5|            0|          1|   N|\n",
            "|R3URL5K7DHHYK7|          5|            1|          1|   N|\n",
            "|R22YISZKS35YZX|          5|            2|          3|   N|\n",
            "|R3IIOLWHWC297U|          5|            0|          0|   N|\n",
            "+--------------+-----------+-------------+-----------+----+\n",
            "only showing top 20 rows\n",
            "\n"
          ],
          "name": "stdout"
        }
      ]
    },
    {
      "cell_type": "code",
      "metadata": {
        "id": "-m7UNTJvYxbM"
      },
      "source": [
        "# load the DataFrames that correspond to tables into an RDS instance\r\n",
        "# first, configure settings for RDS instance\r\n",
        "mode = \"append\"\r\n",
        "jdbc_url=\"jdbc:postgresql://<insert endpoint>:5432/<database-name>\"\r\n",
        "config = {\"user\":\"<owner>\",\r\n",
        "          \"password\": \"<password>\",\r\n",
        "          \"driver\":\"org.postgresql.Driver\"}"
      ],
      "execution_count": 28,
      "outputs": []
    },
    {
      "cell_type": "code",
      "metadata": {
        "id": "SDF5RiCyYxnE"
      },
      "source": [
        "# write DataFrame to 'review_id_table' in RDS\r\n",
        "review_id_df.write.jdbc(url=jdbc_url, table='review_id_table', mode=mode, properties=config)"
      ],
      "execution_count": 29,
      "outputs": []
    },
    {
      "cell_type": "code",
      "metadata": {
        "id": "igt4bob4BCwD"
      },
      "source": [
        "# write DataFrame to 'products' in RDS\r\n",
        "products_df.write.jdbc(url=jdbc_url, table='products', mode=mode, properties=config)"
      ],
      "execution_count": 30,
      "outputs": []
    },
    {
      "cell_type": "code",
      "metadata": {
        "id": "QM8xm89YBC7h"
      },
      "source": [
        "# write DataFrame to 'customers' in RDS\r\n",
        "customers_df.write.jdbc(url=jdbc_url, table='customers', mode=mode, properties=config)"
      ],
      "execution_count": 31,
      "outputs": []
    },
    {
      "cell_type": "code",
      "metadata": {
        "id": "lG_9KqpNBDbp"
      },
      "source": [
        "# write DataFrame to 'vine_table' in RDS\r\n",
        "vine_df.write.jdbc(url=jdbc_url, table='vine_table', mode=mode, properties=config)"
      ],
      "execution_count": 32,
      "outputs": []
    }
  ]
}