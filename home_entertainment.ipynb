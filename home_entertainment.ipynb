{
  "nbformat": 4,
  "nbformat_minor": 0,
  "metadata": {
    "colab": {
      "name": "home_entertainment.ipynb",
      "provenance": [],
      "collapsed_sections": []
    },
    "kernelspec": {
      "name": "python3",
      "display_name": "Python 3"
    }
  },
  "cells": [
    {
      "cell_type": "code",
      "metadata": {
        "colab": {
          "base_uri": "https://localhost:8080/"
        },
        "id": "1AwG8R9EUuDF",
        "outputId": "9be7c432-058a-46d2-ea1e-29d434ff569e"
      },
      "source": [
        "import os\r\n",
        "# Find the latest version of spark 3.0  from http://www-us.apache.org/dist/spark/ and enter as the spark version\r\n",
        "# For example:\r\n",
        "# spark_version = 'spark-3.1.1'\r\n",
        "spark_version = 'spark-3.1.1'\r\n",
        "os.environ['SPARK_VERSION']=spark_version\r\n",
        "\r\n",
        "# Install Spark and Java\r\n",
        "!apt-get update\r\n",
        "!apt-get install openjdk-11-jdk-headless -qq > /dev/null\r\n",
        "!wget -q http://www-us.apache.org/dist/spark/$SPARK_VERSION/$SPARK_VERSION-bin-hadoop2.7.tgz\r\n",
        "!tar xf $SPARK_VERSION-bin-hadoop2.7.tgz\r\n",
        "!pip install -q findspark\r\n",
        "\r\n",
        "# Set Environment Variables\r\n",
        "import os\r\n",
        "os.environ[\"JAVA_HOME\"] = \"/usr/lib/jvm/java-11-openjdk-amd64\"\r\n",
        "os.environ[\"SPARK_HOME\"] = f\"/content/{spark_version}-bin-hadoop2.7\"\r\n",
        "\r\n",
        "# Start a SparkSession\r\n",
        "import findspark\r\n",
        "findspark.init()"
      ],
      "execution_count": 1,
      "outputs": [
        {
          "output_type": "stream",
          "text": [
            "\r0% [Working]\r            \rIgn:1 https://developer.download.nvidia.com/compute/cuda/repos/ubuntu1804/x86_64  InRelease\n",
            "\r0% [Connecting to archive.ubuntu.com] [Connecting to security.ubuntu.com] [Conn\r                                                                               \rIgn:2 https://developer.download.nvidia.com/compute/machine-learning/repos/ubuntu1804/x86_64  InRelease\n",
            "\r0% [Connecting to archive.ubuntu.com] [Connecting to security.ubuntu.com] [Conn\r                                                                               \rHit:3 https://developer.download.nvidia.com/compute/cuda/repos/ubuntu1804/x86_64  Release\n",
            "\r0% [Connecting to archive.ubuntu.com] [Connecting to security.ubuntu.com] [Wait\r                                                                               \rHit:4 https://cloud.r-project.org/bin/linux/ubuntu bionic-cran40/ InRelease\n",
            "Hit:5 https://developer.download.nvidia.com/compute/machine-learning/repos/ubuntu1804/x86_64  Release\n",
            "Hit:7 http://ppa.launchpad.net/c2d4u.team/c2d4u4.0+/ubuntu bionic InRelease\n",
            "Get:8 http://security.ubuntu.com/ubuntu bionic-security InRelease [88.7 kB]\n",
            "Hit:9 http://archive.ubuntu.com/ubuntu bionic InRelease\n",
            "Hit:10 http://ppa.launchpad.net/cran/libgit2/ubuntu bionic InRelease\n",
            "Get:11 http://archive.ubuntu.com/ubuntu bionic-updates InRelease [88.7 kB]\n",
            "Hit:13 http://ppa.launchpad.net/deadsnakes/ppa/ubuntu bionic InRelease\n",
            "Get:14 http://archive.ubuntu.com/ubuntu bionic-backports InRelease [74.6 kB]\n",
            "Hit:15 http://ppa.launchpad.net/graphics-drivers/ppa/ubuntu bionic InRelease\n",
            "Fetched 252 kB in 2s (123 kB/s)\n",
            "Reading package lists... Done\n"
          ],
          "name": "stdout"
        }
      ]
    },
    {
      "cell_type": "code",
      "metadata": {
        "colab": {
          "base_uri": "https://localhost:8080/"
        },
        "id": "O8c5_OaMVTP5",
        "outputId": "feeba02c-3d6d-42b8-8b59-d6eacc40c950"
      },
      "source": [
        "# For connection to Postgres\r\n",
        "!wget https://jdbc.postgresql.org/download/postgresql-42.2.9.jar"
      ],
      "execution_count": 2,
      "outputs": [
        {
          "output_type": "stream",
          "text": [
            "--2021-03-12 00:04:50--  https://jdbc.postgresql.org/download/postgresql-42.2.9.jar\n",
            "Resolving jdbc.postgresql.org (jdbc.postgresql.org)... 72.32.157.228, 2001:4800:3e1:1::228\n",
            "Connecting to jdbc.postgresql.org (jdbc.postgresql.org)|72.32.157.228|:443... connected.\n",
            "HTTP request sent, awaiting response... 200 OK\n",
            "Length: 914037 (893K) [application/java-archive]\n",
            "Saving to: ‘postgresql-42.2.9.jar.4’\n",
            "\n",
            "postgresql-42.2.9.j 100%[===================>] 892.61K  5.57MB/s    in 0.2s    \n",
            "\n",
            "2021-03-12 00:04:50 (5.57 MB/s) - ‘postgresql-42.2.9.jar.4’ saved [914037/914037]\n",
            "\n"
          ],
          "name": "stdout"
        }
      ]
    },
    {
      "cell_type": "code",
      "metadata": {
        "id": "CnQFHZUjzn1o"
      },
      "source": [
        "from pyspark.sql import SparkSession\r\n",
        "spark = SparkSession.builder.appName(\"CloudETL\").config(\"spark.driver.extraClassPath\",\"/content/postgresql-42.2.9.jar\").getOrCreate()"
      ],
      "execution_count": 3,
      "outputs": []
    },
    {
      "cell_type": "code",
      "metadata": {
        "colab": {
          "base_uri": "https://localhost:8080/"
        },
        "id": "P6yVzYEDVTrx",
        "outputId": "e0182b32-959d-40d6-a6f1-ed1bb5e267da"
      },
      "source": [
        "# Read in data from S3 Buckets into a DataFrame\r\n",
        "from pyspark import SparkFiles\r\n",
        "url =\"https://s3.amazonaws.com/amazon-reviews-pds/tsv/amazon_reviews_us_Home_Entertainment_v1_00.tsv.gz\"\r\n",
        "spark.sparkContext.addFile(url)\r\n",
        "df = spark.read.option('header', 'true').csv(SparkFiles.get(\"amazon_reviews_us_Home_Entertainment_v1_00.tsv.gz\"), sep=\"\\t\")\r\n",
        "\r\n",
        "# Show DataFrame\r\n",
        "df.show(10)"
      ],
      "execution_count": 4,
      "outputs": [
        {
          "output_type": "stream",
          "text": [
            "+-----------+-----------+--------------+----------+--------------+--------------------+------------------+-----------+-------------+-----------+----+-----------------+--------------------+--------------------+-----------+\n",
            "|marketplace|customer_id|     review_id|product_id|product_parent|       product_title|  product_category|star_rating|helpful_votes|total_votes|vine|verified_purchase|     review_headline|         review_body|review_date|\n",
            "+-----------+-----------+--------------+----------+--------------+--------------------+------------------+-----------+-------------+-----------+----+-----------------+--------------------+--------------------+-----------+\n",
            "|         US|     179886| RY01SAV7HZ8QO|B00NTI0CQ2|     667358431|Aketek 1080P LED ...|Home Entertainment|          4|            0|          0|   N|                Y|good enough for m...|not the best pict...| 2015-08-31|\n",
            "|         US|   37293769|R1XX8SDGJ4MZ4L|B00BUCLVZU|     621695622|TiVo Mini with IR...|Home Entertainment|          5|            0|          0|   N|                N|Tell the Cable Co...|Not only do my Ti...| 2015-08-31|\n",
            "|         US|    8332121|R149Q3B5L33NN5|B00RBX9D5W|     143071132|Apple TV MD199LL/...|Home Entertainment|          5|            0|          0|   N|                Y|    Works perfectly!|Works perfectly! ...| 2015-08-31|\n",
            "|         US|   47054962|R2ZVD69Z6KPJ4O|B00UJ3IULO|     567816707|New Roku 3 6.5 Fo...|Home Entertainment|          1|            0|          2|   N|                Y|It doesn't work. ...|It doesn't work. ...| 2015-08-31|\n",
            "|         US|   23413911|R1DIKG2G33ZLNP|B0037UCTXG|     909557698|Generic DVI-I Dua...|Home Entertainment|          4|            0|          0|   N|                Y|         As pictured|I received the it...| 2015-08-31|\n",
            "|         US|    4417771|R3L6FGKAW0EYFI|B004N866SU|     414565179|Samsung 3D LED HD...|Home Entertainment|          1|            1|          1|   N|                N|Only lasts 3-4 ye...|I bought this TV ...| 2015-08-31|\n",
            "|         US|   47900707| RAO0QZH5VC6VI|B00JE6AOJS|     798450889|Jiake Wireless Bl...|Home Entertainment|          1|            0|          0|   N|                Y|            One Star|    Waste of $$$$$$$| 2015-08-31|\n",
            "|         US|   34112894|R25IK0UAHWNB22|B00COL0B7A|     777554234|3pcs/lot 3in1 3ft...|Home Entertainment|          3|            0|          0|   N|                Y|         Three Stars|Nice but all thre...| 2015-08-31|\n",
            "|         US|   20691979|R2A9IHKZMTMAL1|B00QHLSKOE|     885228855|Matricom G-Box Q²...|Home Entertainment|          5|            1|          2|   N|                Y|Yes...exactly wha...|Oh, yeah...doesn'...| 2015-08-31|\n",
            "|         US|   25983343| R5XVKTHL6SITI|B00UNL2MUW|     164482798|VIZIO S2920W-C0B ...|Home Entertainment|          5|            0|          0|   N|                Y|Fantastic sound. ...|Fantastic sound. ...| 2015-08-31|\n",
            "+-----------+-----------+--------------+----------+--------------+--------------------+------------------+-----------+-------------+-----------+----+-----------------+--------------------+--------------------+-----------+\n",
            "only showing top 10 rows\n",
            "\n"
          ],
          "name": "stdout"
        }
      ]
    },
    {
      "cell_type": "code",
      "metadata": {
        "id": "ebiKlzsaVTzR",
        "colab": {
          "base_uri": "https://localhost:8080/"
        },
        "outputId": "d4d2ae44-b718-4bc8-fa13-5b5c61e80912"
      },
      "source": [
        "# examine the schema\r\n",
        "df.printSchema()"
      ],
      "execution_count": 5,
      "outputs": [
        {
          "output_type": "stream",
          "text": [
            "root\n",
            " |-- marketplace: string (nullable = true)\n",
            " |-- customer_id: string (nullable = true)\n",
            " |-- review_id: string (nullable = true)\n",
            " |-- product_id: string (nullable = true)\n",
            " |-- product_parent: string (nullable = true)\n",
            " |-- product_title: string (nullable = true)\n",
            " |-- product_category: string (nullable = true)\n",
            " |-- star_rating: string (nullable = true)\n",
            " |-- helpful_votes: string (nullable = true)\n",
            " |-- total_votes: string (nullable = true)\n",
            " |-- vine: string (nullable = true)\n",
            " |-- verified_purchase: string (nullable = true)\n",
            " |-- review_headline: string (nullable = true)\n",
            " |-- review_body: string (nullable = true)\n",
            " |-- review_date: string (nullable = true)\n",
            "\n"
          ],
          "name": "stdout"
        }
      ]
    },
    {
      "cell_type": "code",
      "metadata": {
        "id": "t0zCVKd2e6rb"
      },
      "source": [
        "# import struct fields that we can use\r\n",
        "from pyspark.sql.types import StructField, StringType, IntegerType, DateType, StructType"
      ],
      "execution_count": 6,
      "outputs": []
    },
    {
      "cell_type": "code",
      "metadata": {
        "colab": {
          "base_uri": "https://localhost:8080/"
        },
        "id": "TeNaJ1ARYxe9",
        "outputId": "27ecc850-c4f2-4a7f-f2c5-e14ffac18c84"
      },
      "source": [
        "# create two lists of struct fields\r\n",
        "schema1 = [StructField(\"marketplace\", StringType(), True), StructField(\"customer_id\", IntegerType(), True), StructField(\"review_id\", StringType(), False), StructField(\"product_id\", StringType(), True), StructField(\"product_parent\", IntegerType(), True), StructField(\"product_title\", StringType(), True), StructField(\"product_category\", StringType(), True), StructField(\"star_rating\", IntegerType(), True), StructField(\"helpful_votes\", IntegerType(), True), StructField(\"total_votes\", IntegerType(), True), StructField(\"vine\", StringType(), True), StructField(\"verified_purchase\", StringType(), True), StructField(\"review_headline\", StringType(), True), StructField(\"review_body\", StringType(), True), StructField(\"review_date\", DateType(), True)]\r\n",
        "schema2 = [StructField(\"marketplace\", StringType(), True), StructField(\"customer_id\", IntegerType(), False), StructField(\"review_id\", StringType(), True), StructField(\"product_id\", StringType(), False), StructField(\"product_parent\", IntegerType(), True), StructField(\"product_title\", StringType(), True), StructField(\"product_category\", StringType(), True), StructField(\"star_rating\", IntegerType(), True), StructField(\"helpful_votes\", IntegerType(), True), StructField(\"total_votes\", IntegerType(), True), StructField(\"vine\", StringType(), True), StructField(\"verified_purchase\", StringType(), True), StructField(\"review_headline\", StringType(), True), StructField(\"review_body\", StringType(), True), StructField(\"review_date\", DateType(), True)]\r\n",
        "print(schema1)\r\n",
        "print(schema2)"
      ],
      "execution_count": 7,
      "outputs": [
        {
          "output_type": "stream",
          "text": [
            "[StructField(marketplace,StringType,true), StructField(customer_id,IntegerType,true), StructField(review_id,StringType,false), StructField(product_id,StringType,true), StructField(product_parent,IntegerType,true), StructField(product_title,StringType,true), StructField(product_category,StringType,true), StructField(star_rating,IntegerType,true), StructField(helpful_votes,IntegerType,true), StructField(total_votes,IntegerType,true), StructField(vine,StringType,true), StructField(verified_purchase,StringType,true), StructField(review_headline,StringType,true), StructField(review_body,StringType,true), StructField(review_date,DateType,true)]\n",
            "[StructField(marketplace,StringType,true), StructField(customer_id,IntegerType,false), StructField(review_id,StringType,true), StructField(product_id,StringType,false), StructField(product_parent,IntegerType,true), StructField(product_title,StringType,true), StructField(product_category,StringType,true), StructField(star_rating,IntegerType,true), StructField(helpful_votes,IntegerType,true), StructField(total_votes,IntegerType,true), StructField(vine,StringType,true), StructField(verified_purchase,StringType,true), StructField(review_headline,StringType,true), StructField(review_body,StringType,true), StructField(review_date,DateType,true)]\n"
          ],
          "name": "stdout"
        }
      ]
    },
    {
      "cell_type": "code",
      "metadata": {
        "colab": {
          "base_uri": "https://localhost:8080/"
        },
        "id": "4oJw79pfe6yy",
        "outputId": "1b088e51-b1ad-4a9a-b3d5-bec68072173d"
      },
      "source": [
        "# pass in our fields\r\n",
        "final1 = StructType(fields=schema1)\r\n",
        "final2 = StructType(fields=schema2)\r\n",
        "print(final1)\r\n",
        "print(final2)"
      ],
      "execution_count": 8,
      "outputs": [
        {
          "output_type": "stream",
          "text": [
            "StructType(List(StructField(marketplace,StringType,true),StructField(customer_id,IntegerType,true),StructField(review_id,StringType,false),StructField(product_id,StringType,true),StructField(product_parent,IntegerType,true),StructField(product_title,StringType,true),StructField(product_category,StringType,true),StructField(star_rating,IntegerType,true),StructField(helpful_votes,IntegerType,true),StructField(total_votes,IntegerType,true),StructField(vine,StringType,true),StructField(verified_purchase,StringType,true),StructField(review_headline,StringType,true),StructField(review_body,StringType,true),StructField(review_date,DateType,true)))\n",
            "StructType(List(StructField(marketplace,StringType,true),StructField(customer_id,IntegerType,false),StructField(review_id,StringType,true),StructField(product_id,StringType,false),StructField(product_parent,IntegerType,true),StructField(product_title,StringType,true),StructField(product_category,StringType,true),StructField(star_rating,IntegerType,true),StructField(helpful_votes,IntegerType,true),StructField(total_votes,IntegerType,true),StructField(vine,StringType,true),StructField(verified_purchase,StringType,true),StructField(review_headline,StringType,true),StructField(review_body,StringType,true),StructField(review_date,DateType,true)))\n"
          ],
          "name": "stdout"
        }
      ]
    },
    {
      "cell_type": "code",
      "metadata": {
        "id": "7iYSWRoYe64t"
      },
      "source": [
        "# read our data with our new schema\r\n",
        "df1 = spark.read.option('header', 'true').csv(SparkFiles.get(\"amazon_reviews_us_Home_Entertainment_v1_00.tsv.gz\"), schema=final1, sep=\"\\t\")\r\n",
        "df2 = spark.read.option('header', 'true').csv(SparkFiles.get(\"amazon_reviews_us_Home_Entertainment_v1_00.tsv.gz\"), schema=final2, sep=\"\\t\")"
      ],
      "execution_count": 9,
      "outputs": []
    },
    {
      "cell_type": "code",
      "metadata": {
        "colab": {
          "base_uri": "https://localhost:8080/"
        },
        "id": "45Nc7xIokeAi",
        "outputId": "d69d5238-bff1-4e5b-f729-36784e8a73c1"
      },
      "source": [
        "# Show DataFrame 1\r\n",
        "df1.show(10)"
      ],
      "execution_count": 10,
      "outputs": [
        {
          "output_type": "stream",
          "text": [
            "+-----------+-----------+--------------+----------+--------------+--------------------+------------------+-----------+-------------+-----------+----+-----------------+--------------------+--------------------+-----------+\n",
            "|marketplace|customer_id|     review_id|product_id|product_parent|       product_title|  product_category|star_rating|helpful_votes|total_votes|vine|verified_purchase|     review_headline|         review_body|review_date|\n",
            "+-----------+-----------+--------------+----------+--------------+--------------------+------------------+-----------+-------------+-----------+----+-----------------+--------------------+--------------------+-----------+\n",
            "|         US|     179886| RY01SAV7HZ8QO|B00NTI0CQ2|     667358431|Aketek 1080P LED ...|Home Entertainment|          4|            0|          0|   N|                Y|good enough for m...|not the best pict...| 2015-08-31|\n",
            "|         US|   37293769|R1XX8SDGJ4MZ4L|B00BUCLVZU|     621695622|TiVo Mini with IR...|Home Entertainment|          5|            0|          0|   N|                N|Tell the Cable Co...|Not only do my Ti...| 2015-08-31|\n",
            "|         US|    8332121|R149Q3B5L33NN5|B00RBX9D5W|     143071132|Apple TV MD199LL/...|Home Entertainment|          5|            0|          0|   N|                Y|    Works perfectly!|Works perfectly! ...| 2015-08-31|\n",
            "|         US|   47054962|R2ZVD69Z6KPJ4O|B00UJ3IULO|     567816707|New Roku 3 6.5 Fo...|Home Entertainment|          1|            0|          2|   N|                Y|It doesn't work. ...|It doesn't work. ...| 2015-08-31|\n",
            "|         US|   23413911|R1DIKG2G33ZLNP|B0037UCTXG|     909557698|Generic DVI-I Dua...|Home Entertainment|          4|            0|          0|   N|                Y|         As pictured|I received the it...| 2015-08-31|\n",
            "|         US|    4417771|R3L6FGKAW0EYFI|B004N866SU|     414565179|Samsung 3D LED HD...|Home Entertainment|          1|            1|          1|   N|                N|Only lasts 3-4 ye...|I bought this TV ...| 2015-08-31|\n",
            "|         US|   47900707| RAO0QZH5VC6VI|B00JE6AOJS|     798450889|Jiake Wireless Bl...|Home Entertainment|          1|            0|          0|   N|                Y|            One Star|    Waste of $$$$$$$| 2015-08-31|\n",
            "|         US|   34112894|R25IK0UAHWNB22|B00COL0B7A|     777554234|3pcs/lot 3in1 3ft...|Home Entertainment|          3|            0|          0|   N|                Y|         Three Stars|Nice but all thre...| 2015-08-31|\n",
            "|         US|   20691979|R2A9IHKZMTMAL1|B00QHLSKOE|     885228855|Matricom G-Box Q²...|Home Entertainment|          5|            1|          2|   N|                Y|Yes...exactly wha...|Oh, yeah...doesn'...| 2015-08-31|\n",
            "|         US|   25983343| R5XVKTHL6SITI|B00UNL2MUW|     164482798|VIZIO S2920W-C0B ...|Home Entertainment|          5|            0|          0|   N|                Y|Fantastic sound. ...|Fantastic sound. ...| 2015-08-31|\n",
            "+-----------+-----------+--------------+----------+--------------+--------------------+------------------+-----------+-------------+-----------+----+-----------------+--------------------+--------------------+-----------+\n",
            "only showing top 10 rows\n",
            "\n"
          ],
          "name": "stdout"
        }
      ]
    },
    {
      "cell_type": "code",
      "metadata": {
        "colab": {
          "base_uri": "https://localhost:8080/"
        },
        "id": "kn2iUnDuumPA",
        "outputId": "23476cd4-e1a7-46ae-bda1-4c41116e25ab"
      },
      "source": [
        "# Show DataFrame 2\r\n",
        "df2.show(10)"
      ],
      "execution_count": 11,
      "outputs": [
        {
          "output_type": "stream",
          "text": [
            "+-----------+-----------+--------------+----------+--------------+--------------------+------------------+-----------+-------------+-----------+----+-----------------+--------------------+--------------------+-----------+\n",
            "|marketplace|customer_id|     review_id|product_id|product_parent|       product_title|  product_category|star_rating|helpful_votes|total_votes|vine|verified_purchase|     review_headline|         review_body|review_date|\n",
            "+-----------+-----------+--------------+----------+--------------+--------------------+------------------+-----------+-------------+-----------+----+-----------------+--------------------+--------------------+-----------+\n",
            "|         US|     179886| RY01SAV7HZ8QO|B00NTI0CQ2|     667358431|Aketek 1080P LED ...|Home Entertainment|          4|            0|          0|   N|                Y|good enough for m...|not the best pict...| 2015-08-31|\n",
            "|         US|   37293769|R1XX8SDGJ4MZ4L|B00BUCLVZU|     621695622|TiVo Mini with IR...|Home Entertainment|          5|            0|          0|   N|                N|Tell the Cable Co...|Not only do my Ti...| 2015-08-31|\n",
            "|         US|    8332121|R149Q3B5L33NN5|B00RBX9D5W|     143071132|Apple TV MD199LL/...|Home Entertainment|          5|            0|          0|   N|                Y|    Works perfectly!|Works perfectly! ...| 2015-08-31|\n",
            "|         US|   47054962|R2ZVD69Z6KPJ4O|B00UJ3IULO|     567816707|New Roku 3 6.5 Fo...|Home Entertainment|          1|            0|          2|   N|                Y|It doesn't work. ...|It doesn't work. ...| 2015-08-31|\n",
            "|         US|   23413911|R1DIKG2G33ZLNP|B0037UCTXG|     909557698|Generic DVI-I Dua...|Home Entertainment|          4|            0|          0|   N|                Y|         As pictured|I received the it...| 2015-08-31|\n",
            "|         US|    4417771|R3L6FGKAW0EYFI|B004N866SU|     414565179|Samsung 3D LED HD...|Home Entertainment|          1|            1|          1|   N|                N|Only lasts 3-4 ye...|I bought this TV ...| 2015-08-31|\n",
            "|         US|   47900707| RAO0QZH5VC6VI|B00JE6AOJS|     798450889|Jiake Wireless Bl...|Home Entertainment|          1|            0|          0|   N|                Y|            One Star|    Waste of $$$$$$$| 2015-08-31|\n",
            "|         US|   34112894|R25IK0UAHWNB22|B00COL0B7A|     777554234|3pcs/lot 3in1 3ft...|Home Entertainment|          3|            0|          0|   N|                Y|         Three Stars|Nice but all thre...| 2015-08-31|\n",
            "|         US|   20691979|R2A9IHKZMTMAL1|B00QHLSKOE|     885228855|Matricom G-Box Q²...|Home Entertainment|          5|            1|          2|   N|                Y|Yes...exactly wha...|Oh, yeah...doesn'...| 2015-08-31|\n",
            "|         US|   25983343| R5XVKTHL6SITI|B00UNL2MUW|     164482798|VIZIO S2920W-C0B ...|Home Entertainment|          5|            0|          0|   N|                Y|Fantastic sound. ...|Fantastic sound. ...| 2015-08-31|\n",
            "+-----------+-----------+--------------+----------+--------------+--------------------+------------------+-----------+-------------+-----------+----+-----------------+--------------------+--------------------+-----------+\n",
            "only showing top 10 rows\n",
            "\n"
          ],
          "name": "stdout"
        }
      ]
    },
    {
      "cell_type": "code",
      "metadata": {
        "colab": {
          "base_uri": "https://localhost:8080/"
        },
        "id": "uhQQM_KDkeSh",
        "outputId": "d3662a75-be6a-49c1-8dc0-970faf4a60bc"
      },
      "source": [
        "# examine the new schema; I believe these results are an error: all nullable attributes are always true, despite definition in the static schema and having been correctly interpreted.\r\n",
        "df1.printSchema()"
      ],
      "execution_count": 12,
      "outputs": [
        {
          "output_type": "stream",
          "text": [
            "root\n",
            " |-- marketplace: string (nullable = true)\n",
            " |-- customer_id: integer (nullable = true)\n",
            " |-- review_id: string (nullable = true)\n",
            " |-- product_id: string (nullable = true)\n",
            " |-- product_parent: integer (nullable = true)\n",
            " |-- product_title: string (nullable = true)\n",
            " |-- product_category: string (nullable = true)\n",
            " |-- star_rating: integer (nullable = true)\n",
            " |-- helpful_votes: integer (nullable = true)\n",
            " |-- total_votes: integer (nullable = true)\n",
            " |-- vine: string (nullable = true)\n",
            " |-- verified_purchase: string (nullable = true)\n",
            " |-- review_headline: string (nullable = true)\n",
            " |-- review_body: string (nullable = true)\n",
            " |-- review_date: date (nullable = true)\n",
            "\n"
          ],
          "name": "stdout"
        }
      ]
    },
    {
      "cell_type": "code",
      "metadata": {
        "colab": {
          "base_uri": "https://localhost:8080/"
        },
        "id": "o0xG4fkyYxQV",
        "outputId": "21253146-f272-4c6d-bd5c-37b750731a63"
      },
      "source": [
        "# count the number of records (rows) in the dataset\r\n",
        "print(df1.count())\r\n",
        "print(df2.count())"
      ],
      "execution_count": 13,
      "outputs": [
        {
          "output_type": "stream",
          "text": [
            "705889\n",
            "705889\n"
          ],
          "name": "stdout"
        }
      ]
    },
    {
      "cell_type": "code",
      "metadata": {
        "id": "mBLYyl0PVT4a",
        "colab": {
          "base_uri": "https://localhost:8080/"
        },
        "outputId": "fbd0d8b0-1992-4514-e4eb-e17db2439f6e"
      },
      "source": [
        "# drop incomplete rows\r\n",
        "df1 = df1.dropna()\r\n",
        "df2 = df2.dropna()\r\n",
        "print(df1.count())\r\n",
        "print(df2.count())"
      ],
      "execution_count": 14,
      "outputs": [
        {
          "output_type": "stream",
          "text": [
            "705850\n",
            "705850\n",
            "705850\n",
            "705850\n"
          ],
          "name": "stdout"
        }
      ]
    },
    {
      "cell_type": "code",
      "metadata": {
        "colab": {
          "base_uri": "https://localhost:8080/"
        },
        "id": "QewBcAyUYxXk",
        "outputId": "0d6a4cfb-e71c-4e99-9c59-4eebad32bcf3"
      },
      "source": [
        "# transform the dataset to fit the tables in the schema file\r\n",
        "# 1 use df1 to create a DataFrame to match 'review_id_table' table\r\n",
        "review_id_df = df1.select([\"review_id\", \"customer_id\", \"product_id\", \"product_parent\", \"review_date\"])\r\n",
        "review_id_df.show()"
      ],
      "execution_count": 15,
      "outputs": [
        {
          "output_type": "stream",
          "text": [
            "+--------------+-----------+----------+--------------+-----------+\n",
            "|     review_id|customer_id|product_id|product_parent|review_date|\n",
            "+--------------+-----------+----------+--------------+-----------+\n",
            "|R101H086VRVWKX|   30823406|B00882OHL0|     426839100| 2014-07-20|\n",
            "|R103ELYARCJ7AW|   11418164|B006ZO8HCS|     404339813| 2012-07-10|\n",
            "|R105L6OCRSI8Q4|   43557302|B00D79AQ14|     526333387| 2014-09-04|\n",
            "|R1062NR7LOXBOT|   18188055|B008MWLHX2|      65474474| 2013-03-01|\n",
            "|R106SYLD7Y8UR6|   25746561|B001EZRJZE|     565314198| 2009-06-07|\n",
            "|R106VR2RW71DLJ|   52845988|B00GKKI4IE|     326391602| 2015-03-22|\n",
            "|R107BMMP3MA4XK|   45108921|B00I2ZBD1U|     384314603| 2014-09-30|\n",
            "|R107HT8VDOS3R5|   17164769|B001418W2C|     332919308| 2008-05-30|\n",
            "|R107JF6ASZ9B7D|   16071390|B00DR0PDNE|     343185803| 2014-08-31|\n",
            "|R108223RUEXHXM|   30923511|B003CHOFKY|     322302573| 2013-01-22|\n",
            "|R108MFG2YLCFFL|    2956912|B005TI1ILS|     375830131| 2014-12-10|\n",
            "|R10AR9UYN0UTFI|   34710166|B00BFDHVAS|     293226285| 2013-06-22|\n",
            "|R10CMZIVS1WMDC|   52840126|B001UE6MA2|     730788520| 2010-01-02|\n",
            "|R10D4O96VXQF3J|   31620116|B00F5NB7MW|     914061370| 2014-02-10|\n",
            "|R10E85JUVMTBUB|   52069327|B00CW7VQNY|     102484891| 2013-12-10|\n",
            "|R10FGRD41JMXUD|   47874457|B002XVBAKI|     561286608| 2014-12-26|\n",
            "|R10GHLQC6B6UQK|   18703741|B001TDJ7VA|     154419810| 2010-01-07|\n",
            "|R10H0GE213V73Q|   43994536|B00ZREW3A4|     778768057| 2015-08-13|\n",
            "|R10H6BVCFTAXVF|   28203140|B00CO07C5U|     790363214| 2015-03-08|\n",
            "|R10I2MUQNR9MSW|   36997667|B00856XDOQ|     534303998| 2012-12-24|\n",
            "+--------------+-----------+----------+--------------+-----------+\n",
            "only showing top 20 rows\n",
            "\n"
          ],
          "name": "stdout"
        }
      ]
    },
    {
      "cell_type": "code",
      "metadata": {
        "colab": {
          "base_uri": "https://localhost:8080/"
        },
        "id": "NmhR5KKYyqr-",
        "outputId": "acf4c741-1f7f-4836-fdb4-71899f95365f"
      },
      "source": [
        "# 2 use df2 to create a DataFrame to match 'products' table\r\n",
        "products_df = df2.select([\"product_id\", \"product_title\"]).distinct()\r\n",
        "products_df.show()"
      ],
      "execution_count": 19,
      "outputs": [
        {
          "output_type": "stream",
          "text": [
            "+----------+--------------------+\n",
            "|product_id|       product_title|\n",
            "+----------+--------------------+\n",
            "|B00BBAG0DY|LG Electronics LA...|\n",
            "|B000B63RHG|Sharp LC-37D6U Aq...|\n",
            "|B008I641TE|SquareTrade 2-Yea...|\n",
            "|B006L8TX94|TiVo Premiere 500...|\n",
            "|B007R9RUPU|Kinivo LS210 Port...|\n",
            "|B0001YHY0O|Toshiba 20AF44 20...|\n",
            "|B002NNNZEA|SquareTrade 3-Yea...|\n",
            "|B007F9XJW0|Sony DVPFX780 7-I...|\n",
            "|B00DILTY0U|Tianle TL869 Andr...|\n",
            "|B00LGJ5JKA|Excelvan 2800 Lum...|\n",
            "|B00N9OT6RM|Upstar 19-Inch 72...|\n",
            "|B00DCB9BEK|Fosmon Clear Scre...|\n",
            "|B004NPND20|Panasonic VIERA 1...|\n",
            "|B009TQNZV2|WAP3205 v2 - Drah...|\n",
            "|B007JMNJFK|Samsung HW-E 2.1 ...|\n",
            "|B003CCW4OS|FAVI 42-Inch 1080...|\n",
            "|B000N237T6|Pioneer DV-400V H...|\n",
            "|B00CIR3YJC|Patuoxun® Backup ...|\n",
            "|B004O3B4MC|HQRP Wall Travel ...|\n",
            "|B00BXF7I8I|Seiki 1080p 60Hz ...|\n",
            "+----------+--------------------+\n",
            "only showing top 20 rows\n",
            "\n"
          ],
          "name": "stdout"
        }
      ]
    },
    {
      "cell_type": "code",
      "metadata": {
        "colab": {
          "base_uri": "https://localhost:8080/"
        },
        "id": "IIsDzq5N4sow",
        "outputId": "31d29fac-c215-4eb4-aeaa-4fbc8576b82f"
      },
      "source": [
        "df.filter(df[\"product_id\"] == \"B003CCW4OS\").select([\"product_id\", \"product_title\"]).show()"
      ],
      "execution_count": 22,
      "outputs": [
        {
          "output_type": "stream",
          "text": [
            "+----------+--------------------+\n",
            "|product_id|       product_title|\n",
            "+----------+--------------------+\n",
            "|B003CCW4OS|FAVI 42-Inch 1080...|\n",
            "|B003CCW4OS|FAVI 42-Inch 1080...|\n",
            "|B003CCW4OS|FAVI 42-Inch 1080...|\n",
            "|B003CCW4OS|FAVI 42-Inch 1080...|\n",
            "|B003CCW4OS|FAVI 42-Inch 1080...|\n",
            "+----------+--------------------+\n",
            "\n"
          ],
          "name": "stdout"
        }
      ]
    },
    {
      "cell_type": "code",
      "metadata": {
        "colab": {
          "base_uri": "https://localhost:8080/"
        },
        "id": "RNKO_CZx5XTE",
        "outputId": "ef790b65-e27f-402f-fa23-cbdb6a997d4c"
      },
      "source": [
        "df2.filter(df2[\"review_date\"] == \"2015-08-31\").show()"
      ],
      "execution_count": 24,
      "outputs": [
        {
          "output_type": "stream",
          "text": [
            "+-----------+-----------+--------------+----------+--------------+--------------------+------------------+-----------+-------------+-----------+----+-----------------+--------------------+--------------------+-----------+\n",
            "|marketplace|customer_id|     review_id|product_id|product_parent|       product_title|  product_category|star_rating|helpful_votes|total_votes|vine|verified_purchase|     review_headline|         review_body|review_date|\n",
            "+-----------+-----------+--------------+----------+--------------+--------------------+------------------+-----------+-------------+-----------+----+-----------------+--------------------+--------------------+-----------+\n",
            "|         US|   41392448|R18FHVYXC48KX0|B007ZPY6WQ|      51859103|Video Sunglasses ...|Home Entertainment|          3|            0|          0|   N|                Y|         Three Stars|no chip provided ...| 2015-08-31|\n",
            "|         US|   37945800|R1BQZI1JSCA4GX|B00QHLSKOE|     885228855|Matricom G-Box Q²...|Home Entertainment|          5|            0|          1|   N|                Y|          Five Stars|            Great!!!| 2015-08-31|\n",
            "|         US|   37049810| RXQW84FDWQBZ1|B00UJ3IULO|     567816707|New Roku 3 6.5 Fo...|Home Entertainment|          5|            0|          0|   N|                Y|          Five Stars|        Very Pleased| 2015-08-31|\n",
            "|         US|   39877914| R4HHGGX2YFYTC|B007I5JT4S|     806432372|Apple TV MD199LL/...|Home Entertainment|          5|            0|          0|   N|                Y|I love this Apple TV|I love this Apple...| 2015-08-31|\n",
            "|         US|   19025823|R3EYL797GV8ODF|B00UNL08XA|     835491100|Upstar 19-Inch 72...|Home Entertainment|          4|            0|          0|   N|                Y|Good buy for the ...|Good little TV fo...| 2015-08-31|\n",
            "|         US|   14880012| RLDJQV6XTN2KT|B00MYBR75O|     558269866|Samsung UN40H5003...|Home Entertainment|          3|            0|          1|   N|                Y|For a Samsung, it...|For a Samsung, it...| 2015-08-31|\n",
            "|         US|   15051900|R3EOSABM9T80PX|B00GKKI4IE|     326391602|VIZIO E-Series, S...|Home Entertainment|          1|            1|          1|   N|                Y|BROKE AFTER ONLY ...|Wish I didn't hav...| 2015-08-31|\n",
            "|         US|   46098050|R2ZL77K5RVP1KA|B000ELC0GM|     955993206|Sony SLVD370P DVD...|Home Entertainment|          4|            1|          2|   N|                Y|          Four Stars|It was satisfactory.| 2015-08-31|\n",
            "|         US|   27089818| R8S18XZIWSTHC|B00MB2IV6K|      18067137|AGPtek® MX Androi...|Home Entertainment|          4|            0|          0|   N|                N|I love the idea o...|(the 4 stars is b...| 2015-08-31|\n",
            "|         US|    2668964|R1G3ZDEOUWDSIS|B00DR0PDNE|     343185803|Google Chromecast...|Home Entertainment|          5|            0|          0|   N|                Y|always happy with...|Works as it shoul...| 2015-08-31|\n",
            "|         US|   49714793|R31P2LYDJLMCJ9|B00U9U8RZQ|     851149807|Samsung J5200 Ser...|Home Entertainment|          4|            1|          1|   N|                Y|Excellent screen ...|Expect good thing...| 2015-08-31|\n",
            "|         US|   41395002|R2I5FB53PHCEVF|B00FGRYNYG|     118871747|ULAK iPad 2/3/4 C...|Home Entertainment|          5|            0|          0|   N|                Y|          Five Stars|Awesome color, lo...| 2015-08-31|\n",
            "|         US|   16929661|R2N26OW8XHXIA7|B00T63YUTE|     406726469|VIZIO 43-Inch Cla...|Home Entertainment|          4|            0|          4|   N|                Y|             awesome|was more than I e...| 2015-08-31|\n",
            "|         US|   22949724| RT2LEQAPNIVBB|B00BCS1EM2|     146571046|Axess LCD TV with...|Home Entertainment|          2|            0|          0|   N|                Y|Sound quality is ...|Sound quality is ...| 2015-08-31|\n",
            "|         US|   19944740|R13YVLEW600SWD|B00U9U8T2W|     786300160|Samsung J6300, SB...|Home Entertainment|          4|            2|          4|   N|                Y|For some reason o...|For some reason o...| 2015-08-31|\n",
            "|         US|   13978562|R2GQ2V9SFYPMCH|B00MAOSHIG|     878632831|Samsung BD-H5100-...|Home Entertainment|          5|            0|          0|   N|                Y|         Just right!|Perfect DVD playe...| 2015-08-31|\n",
            "|         US|   12268807| R4OXT934YMW5G|B00CHHGWZG|     768204073|Sylvania 15.6-Inc...|Home Entertainment|          5|            0|          0|   N|                Y|          Five Stars|        Good product| 2015-08-31|\n",
            "|         US|   44032210| RG7GCH4SIW9MB|B00MZX6DHO|     783507201|Acer Aspire E5-51...|Home Entertainment|          2|            0|          0|   N|                Y|Good notebook for...|This is a decent ...| 2015-08-31|\n",
            "|         US|   26165232|R1U5RQWVG7ULAM|B00K6N5I6M|     996655627|Samsung D3 Deskto...|Home Entertainment|          4|            1|          1|   N|                Y|Great drive, buil...|Great drive, easi...| 2015-08-31|\n",
            "|         US|   41958942|R2IJVJW6T9B1UC|B003ANVQWU|      67673718|Samsung DVD-C500 ...|Home Entertainment|          4|            0|          0|   N|                Y|          Four Stars|Works great for a...| 2015-08-31|\n",
            "+-----------+-----------+--------------+----------+--------------+--------------------+------------------+-----------+-------------+-----------+----+-----------------+--------------------+--------------------+-----------+\n",
            "only showing top 20 rows\n",
            "\n"
          ],
          "name": "stdout"
        }
      ]
    },
    {
      "cell_type": "code",
      "metadata": {
        "colab": {
          "base_uri": "https://localhost:8080/"
        },
        "id": "UYgYnMJnyqvd",
        "outputId": "6bfb81ab-a312-417d-f312-041ccab1eca3"
      },
      "source": [
        "# 3 use df2 to create create a DataFrame to match 'customers' table\r\n",
        "customers_df = df2.groupBy(\"customer_id\").count().select(\"customer_id\", \"count\")\r\n",
        "customers_df.show()"
      ],
      "execution_count": 25,
      "outputs": [
        {
          "output_type": "stream",
          "text": [
            "+-----------+-----+\n",
            "|customer_id|count|\n",
            "+-----------+-----+\n",
            "|    1999776|    1|\n",
            "|   16152581|    3|\n",
            "|   36934735|    1|\n",
            "|   10854194|    2|\n",
            "|   30355550|    1|\n",
            "|   48415532|    1|\n",
            "|   25475014|    4|\n",
            "|   50580392|    1|\n",
            "|   47897118|    1|\n",
            "|   27532661|    1|\n",
            "|   12568829|    4|\n",
            "|   20117488|    1|\n",
            "|     649345|    1|\n",
            "|   49347075|    1|\n",
            "|   52600605|    4|\n",
            "|   10308272|    1|\n",
            "|   22421107|    1|\n",
            "|   10453684|    1|\n",
            "|   15274896|    1|\n",
            "|   19278656|    1|\n",
            "+-----------+-----+\n",
            "only showing top 20 rows\n",
            "\n"
          ],
          "name": "stdout"
        }
      ]
    },
    {
      "cell_type": "code",
      "metadata": {
        "colab": {
          "base_uri": "https://localhost:8080/"
        },
        "id": "rVIHmZz6yq0r",
        "outputId": "50e2ab13-3f0e-426a-fac8-1aeffb8946ad"
      },
      "source": [
        "# 4 use df2 to create create a DataFrame to match 'vine_table' table\r\n",
        "vine_df = df2.select([\"review_id\", \"star_rating\", \"helpful_votes\", \"total_votes\", \"vine\"])\r\n",
        "vine_df.show()"
      ],
      "execution_count": 26,
      "outputs": [
        {
          "output_type": "stream",
          "text": [
            "+--------------+-----------+-------------+-----------+----+\n",
            "|     review_id|star_rating|helpful_votes|total_votes|vine|\n",
            "+--------------+-----------+-------------+-----------+----+\n",
            "|R101H086VRVWKX|          5|            0|          0|   N|\n",
            "|R103ELYARCJ7AW|          1|            0|          0|   N|\n",
            "|R105L6OCRSI8Q4|          5|            0|          0|   N|\n",
            "|R1062NR7LOXBOT|          5|            2|          4|   N|\n",
            "|R106SYLD7Y8UR6|          5|            0|          3|   N|\n",
            "|R106VR2RW71DLJ|          5|            3|          3|   N|\n",
            "|R107BMMP3MA4XK|          2|            0|          2|   N|\n",
            "|R107HT8VDOS3R5|          5|            0|          0|   N|\n",
            "|R107JF6ASZ9B7D|          4|            0|          0|   N|\n",
            "|R108223RUEXHXM|          5|            0|          0|   N|\n",
            "|R108MFG2YLCFFL|          5|            0|          0|   N|\n",
            "|R10AR9UYN0UTFI|          2|            6|          9|   N|\n",
            "|R10CMZIVS1WMDC|          3|            4|          7|   N|\n",
            "|R10D4O96VXQF3J|          5|            1|          1|   N|\n",
            "|R10E85JUVMTBUB|          5|            2|          3|   N|\n",
            "|R10FGRD41JMXUD|          3|            0|          0|   N|\n",
            "|R10GHLQC6B6UQK|          4|            1|          1|   N|\n",
            "|R10H0GE213V73Q|          4|            0|          0|   N|\n",
            "|R10H6BVCFTAXVF|          4|            0|          0|   N|\n",
            "|R10I2MUQNR9MSW|          5|            1|          1|   N|\n",
            "+--------------+-----------+-------------+-----------+----+\n",
            "only showing top 20 rows\n",
            "\n"
          ],
          "name": "stdout"
        }
      ]
    },
    {
      "cell_type": "code",
      "metadata": {
        "id": "bOG6keEvYxi2"
      },
      "source": [
        ""
      ],
      "execution_count": null,
      "outputs": []
    },
    {
      "cell_type": "code",
      "metadata": {
        "id": "-m7UNTJvYxbM"
      },
      "source": [
        "# load the DataFrames that correspond to tables into an RDS instance"
      ],
      "execution_count": null,
      "outputs": []
    },
    {
      "cell_type": "code",
      "metadata": {
        "id": "SDF5RiCyYxnE"
      },
      "source": [
        ""
      ],
      "execution_count": null,
      "outputs": []
    }
  ]
}